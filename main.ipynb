{
 "cells": [
  {
   "cell_type": "markdown",
   "id": "59cf5cdf",
   "metadata": {},
   "source": [
    "#### Importing the libaries"
   ]
  },
  {
   "cell_type": "code",
   "execution_count": 1,
   "id": "936fe165",
   "metadata": {},
   "outputs": [],
   "source": [
    "import matplotlib.pyplot as plt \n",
    "import matplotlib.image as mpimg\n",
    "import numpy as np \n",
    "import cv2"
   ]
  },
  {
   "cell_type": "code",
   "execution_count": 2,
   "id": "c4ae8cb2",
   "metadata": {},
   "outputs": [],
   "source": [
    "def roi(img):\n",
    "    x = int(img.shape[1])\n",
    "    y = int(img.shape[0])\n",
    "    shape = np.array([[int(0), int(y)], [int(x), int(y)], [int(0.55*x), int(0.6*y)], [int(0.45*x), int(0.6*y)]])\n",
    "\n",
    "    #define a numpy array with the dimensions of img, but comprised of zeros\n",
    "    mask = np.zeros_like(img)\n",
    "\n",
    "    #Uses 3 channels or 1 channel for color depending on input image\n",
    "    if len(img.shape) > 2:\n",
    "        channel_count = img.shape[2]\n",
    "        ignore_mask_color = (255,) * channel_count\n",
    "    else:\n",
    "        ignore_mask_color = 255\n",
    "\n",
    "    #creates a polygon with the mask color\n",
    "    cv2.fillPoly(mask, np.int32([shape]), ignore_mask_color)\n",
    "\n",
    "    #returns the image only where the mask pixels are not zero\n",
    "    masked_image = cv2.bitwise_and(img, mask)\n",
    "    return masked_image"
   ]
  },
  {
   "cell_type": "code",
   "execution_count": 3,
   "id": "856a7d46",
   "metadata": {},
   "outputs": [],
   "source": [
    "def convert_to_hsv(img):\n",
    "    return cv2.cvtColor(img, cv2.COLOR_BGR2HSV)"
   ]
  },
  {
   "cell_type": "code",
   "execution_count": 4,
   "id": "7ee43130",
   "metadata": {},
   "outputs": [],
   "source": [
    "def select_white_yellow(image):\n",
    "    # Define white color range in HSV\n",
    "    lower_white = np.array([0, 0, 200], dtype=np.uint8)\n",
    "    upper_white = np.array([255, 30, 255], dtype=np.uint8)\n",
    "\n",
    "    # Define yellow color range in HSV\n",
    "    lower_yellow = np.array([15, 100, 100], dtype=np.uint8)\n",
    "    upper_yellow = np.array([40, 255, 255], dtype=np.uint8)\n",
    "\n",
    "    # Create masks for white and yellow colors\n",
    "    white_mask = cv2.inRange(image, lower_white, upper_white)\n",
    "    yellow_mask = cv2.inRange(image, lower_yellow, upper_yellow)\n",
    "\n",
    "    # Combine masks to get lane lines\n",
    "    combined_mask = cv2.bitwise_or(white_mask, yellow_mask)\n",
    "    return combined_mask"
   ]
  },
  {
   "cell_type": "code",
   "execution_count": 5,
   "id": "88dd2cc2",
   "metadata": {},
   "outputs": [],
   "source": [
    "def grayscale(img):\n",
    "    \"\"\"\n",
    "    Converts the input image to grayscale.\n",
    "\n",
    "    :param img: Input image\n",
    "    :return: Grayscale image\n",
    "    \"\"\"\n",
    "    return cv2.cvtColor(img, cv2.COLOR_BGR2GRAY)"
   ]
  },
  {
   "cell_type": "code",
   "execution_count": 6,
   "id": "ffc47871",
   "metadata": {},
   "outputs": [],
   "source": [
    "def canny(img, low_threshold, high_threshold):\n",
    "    \"\"\"\n",
    "    Applies the Canny edge detection algorithm to the input image.\n",
    "\n",
    "    :param img: Input image\n",
    "    :param low_threshold: Lower threshold for edge detection\n",
    "    :param high_threshold: Upper threshold for edge detection\n",
    "    :return: Edge-detected image\n",
    "    \"\"\"\n",
    "    return cv2.Canny(img, low_threshold, high_threshold)"
   ]
  },
  {
   "cell_type": "code",
   "execution_count": 7,
   "id": "70a4ccad",
   "metadata": {},
   "outputs": [],
   "source": [
    "def gaussian_blur(img, kernel_size):\n",
    "    \"\"\"\n",
    "    Applies Gaussian blur to the input image.\n",
    "\n",
    "    :param img: Input image\n",
    "    :param kernel_size: Size of the Gaussian kernel\n",
    "    :return: Blurred image\n",
    "    \"\"\"\n",
    "    return cv2.GaussianBlur(img, (kernel_size, kernel_size), 0)"
   ]
  },
  {
   "cell_type": "code",
   "execution_count": 8,
   "id": "322f7e42",
   "metadata": {},
   "outputs": [],
   "source": [
    "def draw_lines(img, lines, color=(0, 255, 0), thickness=5):\n",
    "    \"\"\"\n",
    "    Draws lines on the input image.\n",
    "\n",
    "    :param img: Input image\n",
    "    :param lines: List of lines to be drawn\n",
    "    :param color: Line color (BGR format)\n",
    "    :param thickness: Line thickness\n",
    "    \"\"\"\n",
    "    for line in lines:\n",
    "        for x1, y1, x2, y2 in line:\n",
    "            cv2.line(img, (x1, y1), (x2, y2), color, thickness)"
   ]
  },
  {
   "cell_type": "code",
   "execution_count": 27,
   "id": "6f48df83",
   "metadata": {},
   "outputs": [],
   "source": [
    "def hough_lines(img, rho, theta, threshold, min_line_len, max_line_gap):\n",
    "    \"\"\"\n",
    "    Applies the Hough line transform to detect lines in the input image.\n",
    "\n",
    "    :param img: Input image\n",
    "    :param rho: Distance resolution of the accumulator in pixels\n",
    "    :param theta: Angle resolution of the accumulator in radians\n",
    "    :param threshold: Minimum number of votes required to consider a line\n",
    "    :param min_line_len: Minimum length of a line to be considered\n",
    "    :param max_line_gap: Maximum gap between segments to be connected as a line\n",
    "    :return: Image with detected lines drawn\n",
    "    \"\"\"\n",
    "    lines = cv2.HoughLinesP(img, rho, theta, threshold, np.array([]),\n",
    "                            minLineLength=min_line_len, maxLineGap=max_line_gap)\n",
    "    line_img = np.zeros((img.shape[0], img.shape[1], 3), dtype=np.uint8)\n",
    "    draw_lines(line_img, lines)\n",
    "    return line_img"
   ]
  },
  {
   "cell_type": "code",
   "execution_count": 28,
   "id": "41090e5b",
   "metadata": {},
   "outputs": [],
   "source": [
    "def lane_detection_pipeline(image): \n",
    "    \"\"\"\n",
    "    Lane detection pipeline that applies preprocessing steps and detects lanes.\n",
    "\n",
    "    :param image: Input image\n",
    "    :return: Image with detected lanes drawn\n",
    "    \"\"\"\n",
    "    # Define region of interest vertices \n",
    "    roi_vertices = np.array([[(100, image.shape[0]), (image.shape[1] / 2 - 50, image.shape[0] / 2 + 50),\n",
    "                              (image.shape[1] / 2 + 50, image.shape[0] / 2 + 50), (image.shape[1] - 100, image.shape[0])]],\n",
    "                            dtype=np.int32)\n",
    "    # Convert the image to HSV color space\n",
    "    hsv_image = convert_to_hsv(image)\n",
    "\n",
    "    # Select white and yellow lane lines\n",
    "    color_filtered_image = select_white_yellow(hsv_image)\n",
    "    \n",
    "    # Apply Gaussian blur to the grayscale image \n",
    "    blurred_image = gaussian_blur(color_filtered_image, kernel_size=5)\n",
    "    \n",
    "    # Apply Canny edge detection\n",
    "    edges = canny(blurred_image, low_threshold=50, high_threshold=150)\n",
    "    \n",
    "    # Apply region of interest mask\n",
    "    masked_edges = roi(edges)\n",
    "    \n",
    "    # Apply Hough transform to detect lines\n",
    "    line_image = hough_lines(masked_edges, rho=1, theta=np.pi/180, threshold=40, min_line_len=60, max_line_gap=20)\n",
    "    \n",
    "    # Combine the original image with the detected lines \n",
    "    result = cv2.addWeighted(image, 0.8, line_image, 1, 0)\n",
    "    return result"
   ]
  },
  {
   "cell_type": "code",
   "execution_count": 29,
   "id": "2b611116",
   "metadata": {},
   "outputs": [],
   "source": [
    "def process_image(image_path): \n",
    "    \"\"\"\n",
    "    Process a single image using the lane detection pipeline.\n",
    "\n",
    "    :param image_path: Path to the input image\n",
    "    :return: Image with detected lanes drawn\n",
    "    \"\"\"\n",
    "    img = cv2.imread(image_path)\n",
    "    result = lane_detection_pipeline(img)\n",
    "    return result"
   ]
  },
  {
   "cell_type": "code",
   "execution_count": 30,
   "id": "86bcdfe9",
   "metadata": {},
   "outputs": [],
   "source": [
    "def process_video(input_path, output_path):\n",
    "    \"\"\"\n",
    "    Process a video using the lane detection pipeline and save the output.\n",
    "\n",
    "    :param input_path: Path to the input video\n",
    "    :param output_path: Path to save the output video\n",
    "    \"\"\"\n",
    "    video_capture = cv2.VideoCapture(input_path)\n",
    "    fps = int(video_capture.get(cv2.CAP_PROP_FPS))\n",
    "    frame_size = (int(video_capture.get(cv2.CAP_PROP_FRAME_WIDTH)), \n",
    "                 int(video_capture.get(cv2.CAP_PROP_FRAME_HEIGHT)))\n",
    "    fourcc = cv2.VideoWriter_fourcc(*'XVID')\n",
    "    out = cv2.VideoWriter(output_path, fourcc, fps, frame_size)\n",
    "    \n",
    "    while True:\n",
    "        ret, frame = video_capture.read()\n",
    "        if not ret:\n",
    "            break\n",
    "        \n",
    "        result = lane_detection_pipeline(frame)\n",
    "        out.write(result)\n",
    "\n",
    "    video_capture.release()\n",
    "    out.release()\n",
    "    cv2.destroyAllWindows()"
   ]
  },
  {
   "cell_type": "code",
   "execution_count": null,
   "id": "0d85976b",
   "metadata": {},
   "outputs": [],
   "source": [
    "# Process an image\n",
    "image_result = process_image('./img/exit-ramp.jpg')\n",
    "cv2.imshow('Lane Detection Image', image_result)\n",
    "cv2.waitKey(0)\n",
    "cv2.destroyAllWindows()"
   ]
  },
  {
   "cell_type": "code",
   "execution_count": 32,
   "id": "4abce120",
   "metadata": {},
   "outputs": [],
   "source": [
    "# Process a video\n",
    "process_video('./vid/challenge.mp4', 'output_video1.mp4')"
   ]
  }
 ],
 "metadata": {
  "kernelspec": {
   "display_name": "Python 3 (ipykernel)",
   "language": "python",
   "name": "python3"
  },
  "language_info": {
   "codemirror_mode": {
    "name": "ipython",
    "version": 3
   },
   "file_extension": ".py",
   "mimetype": "text/x-python",
   "name": "python",
   "nbconvert_exporter": "python",
   "pygments_lexer": "ipython3",
   "version": "3.9.12"
  }
 },
 "nbformat": 4,
 "nbformat_minor": 5
}
